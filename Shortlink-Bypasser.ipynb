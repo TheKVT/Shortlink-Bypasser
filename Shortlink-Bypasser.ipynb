{
  "nbformat": 4,
  "nbformat_minor": 0,
  "metadata": {
    "colab": {
      "name": "Shortlink-Bypasser.ipynb",
      "provenance": [],
      "toc_visible": true,
      "authorship_tag": "ABX9TyNuZ7tMJw8opWh7+7FVfM41",
      "include_colab_link": true
    },
    "kernelspec": {
      "name": "python3",
      "display_name": "Python 3"
    },
    "language_info": {
      "name": "python"
    }
  },
  "cells": [
    {
      "cell_type": "markdown",
      "metadata": {
        "id": "view-in-github",
        "colab_type": "text"
      },
      "source": [
        "<a href=\"https://colab.research.google.com/github/TheKVT/Shortlink-Bypasser/blob/master/Shortlink-Bypasser.ipynb\" target=\"_parent\"><img src=\"https://colab.research.google.com/assets/colab-badge.svg\" alt=\"Open In Colab\"/></a>"
      ]
    },
    {
      "cell_type": "code",
      "execution_count": null,
      "metadata": {
        "cellView": "form",
        "id": "OQ27_mzw4Hhp"
      },
      "outputs": [],
      "source": [
        "#@title **Clone Repo & Install Requirements** \n",
        "from IPython.display import clear_output\n",
        "\n",
        "!git clone https://github.com/TheKVT/Shortlink-Bypasser.git\n",
        "!pip install -r /content/Shortlink-Bypasser/requirements.txt\n",
        "clear_output()\n",
        "print('successfully Installation finished.')"
      ]
    },
    {
      "cell_type": "code",
      "source": [
        "#@title **Shortlink-Bypasser**\n",
        "URL = \"\" #@param {type:\"string\"}\n",
        "#@markdown **select site name corretly**\n",
        "type = \"simple\" #@param [\"adfly\", \"droplink\", \"gplinks\", \"ouo\", \"sh_st\", \"simple\"] {type:\"string\"} \n",
        "#@markdown ***simple means link which just redirects***\n",
        "\n",
        "!python /content/Shortlink-Bypasser/all_bypass.py -i '$URL' -t '$type'"
      ],
      "metadata": {
        "cellView": "form",
        "id": "Gy11qW3S4QbM"
      },
      "execution_count": null,
      "outputs": []
    }
  ]
}